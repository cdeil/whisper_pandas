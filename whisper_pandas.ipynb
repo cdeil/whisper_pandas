{
 "cells": [
  {
   "cell_type": "markdown",
   "id": "6ed224c3-b693-4d9a-a99c-534b98f8414b",
   "metadata": {},
   "source": [
    "# whisper_pandas tutorial\n",
    "\n",
    "This is a basic introduction how to use `whisper_pandas`. It also explains a bit what's in Whisper files and archives along the way.\n",
    "\n",
    "Content (planned):\n",
    "\n",
    "* TBD: Read file, summarise, plots\n",
    "* TBD: Show details how to work with timestamps and values in Pandas\n",
    "* TBD: Show how to write to Parquet\n",
    "* TBD: Create and update file from scratch and show content"
   ]
  },
  {
   "cell_type": "code",
   "execution_count": 1,
   "id": "a60bc0a2-0b7d-413f-8a8d-400e69117da2",
   "metadata": {},
   "outputs": [],
   "source": [
    "import pandas as pd\n",
    "import matplotlib.pyplot as plt\n",
    "import whisper_pandas"
   ]
  },
  {
   "cell_type": "markdown",
   "id": "282adb81-dc59-4caa-a72a-146a7b7d3c66",
   "metadata": {},
   "source": [
    "## Read Whisper file"
   ]
  },
  {
   "cell_type": "code",
   "execution_count": 2,
   "id": "1c56498c-73c9-429b-8ec8-342d34c79895",
   "metadata": {},
   "outputs": [],
   "source": [
    "wsp = whisper_pandas.WhisperFile.read(\"data/example.wsp.gz\")"
   ]
  },
  {
   "cell_type": "markdown",
   "id": "0f4410ef-29f2-4752-8421-31251f4b635a",
   "metadata": {},
   "source": [
    "## Summary metadata and archives"
   ]
  },
  {
   "cell_type": "code",
   "execution_count": 3,
   "id": "0b8c96cb-ae64-42aa-aa4f-d6b298de3643",
   "metadata": {},
   "outputs": [
    {
     "data": {
      "text/plain": [
       "WhisperFile(meta=WhisperFileMeta(path='data/example.wsp.gz', aggregation_method='average', max_retention=315363600, x_files_factor=0.5, archives=[WhisperArchiveMeta(index=0, offset=52, seconds_per_point=10, points=1555200), WhisperArchiveMeta(index=1, offset=18662452, seconds_per_point=60, points=5256000), WhisperArchiveMeta(index=2, offset=81734452, seconds_per_point=3600, points=87601)]))"
      ]
     },
     "execution_count": 3,
     "metadata": {},
     "output_type": "execute_result"
    }
   ],
   "source": [
    "wsp"
   ]
  },
  {
   "cell_type": "code",
   "execution_count": 4,
   "id": "3deb7360-f782-4ee3-8c9d-d8261f6e0c9c",
   "metadata": {},
   "outputs": [
    {
     "name": "stdout",
     "output_type": "stream",
     "text": [
      "                                  value\n",
      "path                data/example.wsp.gz\n",
      "actual size                    21696528\n",
      "expected size                  82785664\n",
      "aggregation_method              average\n",
      "max_retention                 315363600\n",
      "x_files_factor                      0.5\n",
      "\n",
      "         seconds_per_point   points  retention    offset      size\n",
      "archive                                                           \n",
      "0                       10  1555200   15552000        52  18662400\n",
      "1                       60  5256000  315360000  18662452  63072000\n",
      "2                     3600    87601  315363600  81734452   1051212\n"
     ]
    }
   ],
   "source": [
    "wsp.print_info()"
   ]
  },
  {
   "cell_type": "code",
   "execution_count": 5,
   "id": "7761f254-8381-41f1-b901-80739ccb138e",
   "metadata": {},
   "outputs": [
    {
     "data": {
      "text/html": [
       "<div>\n",
       "<style scoped>\n",
       "    .dataframe tbody tr th:only-of-type {\n",
       "        vertical-align: middle;\n",
       "    }\n",
       "\n",
       "    .dataframe tbody tr th {\n",
       "        vertical-align: top;\n",
       "    }\n",
       "\n",
       "    .dataframe thead th {\n",
       "        text-align: right;\n",
       "    }\n",
       "</style>\n",
       "<table border=\"1\" class=\"dataframe\">\n",
       "  <thead>\n",
       "    <tr style=\"text-align: right;\">\n",
       "      <th></th>\n",
       "      <th>value</th>\n",
       "    </tr>\n",
       "  </thead>\n",
       "  <tbody>\n",
       "    <tr>\n",
       "      <th>path</th>\n",
       "      <td>data/example.wsp.gz</td>\n",
       "    </tr>\n",
       "    <tr>\n",
       "      <th>actual size</th>\n",
       "      <td>21696528</td>\n",
       "    </tr>\n",
       "    <tr>\n",
       "      <th>expected size</th>\n",
       "      <td>82785664</td>\n",
       "    </tr>\n",
       "    <tr>\n",
       "      <th>aggregation_method</th>\n",
       "      <td>average</td>\n",
       "    </tr>\n",
       "    <tr>\n",
       "      <th>max_retention</th>\n",
       "      <td>315363600</td>\n",
       "    </tr>\n",
       "    <tr>\n",
       "      <th>x_files_factor</th>\n",
       "      <td>0.5</td>\n",
       "    </tr>\n",
       "  </tbody>\n",
       "</table>\n",
       "</div>"
      ],
      "text/plain": [
       "                                  value\n",
       "path                data/example.wsp.gz\n",
       "actual size                    21696528\n",
       "expected size                  82785664\n",
       "aggregation_method              average\n",
       "max_retention                 315363600\n",
       "x_files_factor                      0.5"
      ]
     },
     "execution_count": 5,
     "metadata": {},
     "output_type": "execute_result"
    }
   ],
   "source": [
    "wsp.meta.describe_meta()"
   ]
  },
  {
   "cell_type": "code",
   "execution_count": 6,
   "id": "5e5ff0ef-c7c7-4825-9685-bed29d61f51f",
   "metadata": {},
   "outputs": [
    {
     "data": {
      "text/html": [
       "<div>\n",
       "<style scoped>\n",
       "    .dataframe tbody tr th:only-of-type {\n",
       "        vertical-align: middle;\n",
       "    }\n",
       "\n",
       "    .dataframe tbody tr th {\n",
       "        vertical-align: top;\n",
       "    }\n",
       "\n",
       "    .dataframe thead th {\n",
       "        text-align: right;\n",
       "    }\n",
       "</style>\n",
       "<table border=\"1\" class=\"dataframe\">\n",
       "  <thead>\n",
       "    <tr style=\"text-align: right;\">\n",
       "      <th></th>\n",
       "      <th>seconds_per_point</th>\n",
       "      <th>points</th>\n",
       "      <th>retention</th>\n",
       "      <th>offset</th>\n",
       "      <th>size</th>\n",
       "    </tr>\n",
       "    <tr>\n",
       "      <th>archive</th>\n",
       "      <th></th>\n",
       "      <th></th>\n",
       "      <th></th>\n",
       "      <th></th>\n",
       "      <th></th>\n",
       "    </tr>\n",
       "  </thead>\n",
       "  <tbody>\n",
       "    <tr>\n",
       "      <th>0</th>\n",
       "      <td>10</td>\n",
       "      <td>1555200</td>\n",
       "      <td>15552000</td>\n",
       "      <td>52</td>\n",
       "      <td>18662400</td>\n",
       "    </tr>\n",
       "    <tr>\n",
       "      <th>1</th>\n",
       "      <td>60</td>\n",
       "      <td>5256000</td>\n",
       "      <td>315360000</td>\n",
       "      <td>18662452</td>\n",
       "      <td>63072000</td>\n",
       "    </tr>\n",
       "    <tr>\n",
       "      <th>2</th>\n",
       "      <td>3600</td>\n",
       "      <td>87601</td>\n",
       "      <td>315363600</td>\n",
       "      <td>81734452</td>\n",
       "      <td>1051212</td>\n",
       "    </tr>\n",
       "  </tbody>\n",
       "</table>\n",
       "</div>"
      ],
      "text/plain": [
       "         seconds_per_point   points  retention    offset      size\n",
       "archive                                                           \n",
       "0                       10  1555200   15552000        52  18662400\n",
       "1                       60  5256000  315360000  18662452  63072000\n",
       "2                     3600    87601  315363600  81734452   1051212"
      ]
     },
     "execution_count": 6,
     "metadata": {},
     "output_type": "execute_result"
    }
   ],
   "source": [
    "wsp.meta.describe_archives()"
   ]
  },
  {
   "cell_type": "code",
   "execution_count": 7,
   "id": "5650914a-6acf-4e80-b9d2-d135c1bef8f7",
   "metadata": {},
   "outputs": [],
   "source": [
    "# TODO: create archive table summary on values and timestamps"
   ]
  },
  {
   "cell_type": "code",
   "execution_count": 8,
   "id": "58cf9398-8e3e-4acd-958c-6ef4487641e8",
   "metadata": {},
   "outputs": [],
   "source": [
    "# TODO: plot archive retention bar charts and where values are filled"
   ]
  },
  {
   "cell_type": "markdown",
   "id": "c9979f07-70c9-4ff6-8c28-666d76f01609",
   "metadata": {},
   "source": [
    "## Data access\n",
    "\n",
    "The `WhisperArchive.to_frame` method returns the data as a `pandas.DataFrame`."
   ]
  },
  {
   "cell_type": "code",
   "execution_count": 9,
   "id": "004433c5-d52e-4e7a-8f8c-51783a01db26",
   "metadata": {},
   "outputs": [
    {
     "data": {
      "text/html": [
       "<div>\n",
       "<style scoped>\n",
       "    .dataframe tbody tr th:only-of-type {\n",
       "        vertical-align: middle;\n",
       "    }\n",
       "\n",
       "    .dataframe tbody tr th {\n",
       "        vertical-align: top;\n",
       "    }\n",
       "\n",
       "    .dataframe thead th {\n",
       "        text-align: right;\n",
       "    }\n",
       "</style>\n",
       "<table border=\"1\" class=\"dataframe\">\n",
       "  <thead>\n",
       "    <tr style=\"text-align: right;\">\n",
       "      <th></th>\n",
       "      <th>timestamp</th>\n",
       "      <th>value</th>\n",
       "    </tr>\n",
       "  </thead>\n",
       "  <tbody>\n",
       "    <tr>\n",
       "      <th>43687</th>\n",
       "      <td>2020-07-29 08:28:10+00:00</td>\n",
       "      <td>0.000000</td>\n",
       "    </tr>\n",
       "    <tr>\n",
       "      <th>43688</th>\n",
       "      <td>2020-07-29 08:28:20+00:00</td>\n",
       "      <td>0.000000</td>\n",
       "    </tr>\n",
       "    <tr>\n",
       "      <th>43689</th>\n",
       "      <td>2020-07-29 08:28:30+00:00</td>\n",
       "      <td>0.000000</td>\n",
       "    </tr>\n",
       "    <tr>\n",
       "      <th>43690</th>\n",
       "      <td>2020-07-29 08:28:40+00:00</td>\n",
       "      <td>0.000000</td>\n",
       "    </tr>\n",
       "    <tr>\n",
       "      <th>70228</th>\n",
       "      <td>2020-08-01 10:11:40+00:00</td>\n",
       "      <td>0.000000</td>\n",
       "    </tr>\n",
       "    <tr>\n",
       "      <th>...</th>\n",
       "      <td>...</td>\n",
       "      <td>...</td>\n",
       "    </tr>\n",
       "    <tr>\n",
       "      <th>10991</th>\n",
       "      <td>2021-07-20 13:38:50+00:00</td>\n",
       "      <td>4.077281</td>\n",
       "    </tr>\n",
       "    <tr>\n",
       "      <th>10992</th>\n",
       "      <td>2021-07-20 13:39:00+00:00</td>\n",
       "      <td>4.100306</td>\n",
       "    </tr>\n",
       "    <tr>\n",
       "      <th>10993</th>\n",
       "      <td>2021-07-20 13:39:10+00:00</td>\n",
       "      <td>4.123771</td>\n",
       "    </tr>\n",
       "    <tr>\n",
       "      <th>10994</th>\n",
       "      <td>2021-07-20 13:39:20+00:00</td>\n",
       "      <td>4.093601</td>\n",
       "    </tr>\n",
       "    <tr>\n",
       "      <th>10995</th>\n",
       "      <td>2021-07-20 13:39:30+00:00</td>\n",
       "      <td>4.081736</td>\n",
       "    </tr>\n",
       "  </tbody>\n",
       "</table>\n",
       "<p>1555200 rows × 2 columns</p>\n",
       "</div>"
      ],
      "text/plain": [
       "                      timestamp     value\n",
       "43687 2020-07-29 08:28:10+00:00  0.000000\n",
       "43688 2020-07-29 08:28:20+00:00  0.000000\n",
       "43689 2020-07-29 08:28:30+00:00  0.000000\n",
       "43690 2020-07-29 08:28:40+00:00  0.000000\n",
       "70228 2020-08-01 10:11:40+00:00  0.000000\n",
       "...                         ...       ...\n",
       "10991 2021-07-20 13:38:50+00:00  4.077281\n",
       "10992 2021-07-20 13:39:00+00:00  4.100306\n",
       "10993 2021-07-20 13:39:10+00:00  4.123771\n",
       "10994 2021-07-20 13:39:20+00:00  4.093601\n",
       "10995 2021-07-20 13:39:30+00:00  4.081736\n",
       "\n",
       "[1555200 rows x 2 columns]"
      ]
     },
     "execution_count": 9,
     "metadata": {},
     "output_type": "execute_result"
    }
   ],
   "source": [
    "wsp.archives[0].to_frame()"
   ]
  },
  {
   "cell_type": "markdown",
   "id": "70af4f10-d7e7-4f47-9b6b-7719da4c9f16",
   "metadata": {},
   "source": [
    "There are several options to control the format, point selection and order:"
   ]
  },
  {
   "cell_type": "code",
   "execution_count": 10,
   "id": "3ee97940-c0cd-4e77-851f-6e5d8fd1b5ff",
   "metadata": {},
   "outputs": [
    {
     "name": "stdout",
     "output_type": "stream",
     "text": [
      "Help on function to_frame in module whisper_pandas:\n",
      "\n",
      "to_frame(self, dtype: 'str' = 'float64', to_datetime: 'bool' = True, drop_time_zero: 'bool' = True, time_sort: 'bool' = True) -> 'pd.DataFrame'\n",
      "    Convert archive data to pandas.DataFrame.\n",
      "    \n",
      "    Parameters\n",
      "    ----------\n",
      "    dtype : str\n",
      "        Data type for point values\n",
      "    to_datetime : bool\n",
      "        Convert from Unix int timestamps to pandas timestamps?\n",
      "    drop_time_zero : bool\n",
      "        Drop points where time is 0, i.e. that were never filled?\n",
      "    time_sort : bool\n",
      "        Sort points in chronological order?\n",
      "    \n",
      "    Returns\n",
      "    -------\n",
      "    df : pandas.DataFrame\n",
      "        Dataframe with columns \"timestamp\" and \"value\" and the\n",
      "        point position index in the Whisper archive as index.\n",
      "\n"
     ]
    }
   ],
   "source": [
    "help(whisper_pandas.WhisperArchive.to_frame)"
   ]
  },
  {
   "cell_type": "markdown",
   "id": "4b5547ec-fe6d-410c-9172-63c68b4acf0a",
   "metadata": {},
   "source": [
    "For example here's how to get the full data array, including points that haven't been filled in the Whisper file, in the original order.\n",
    "\n",
    "It shows that the DataFrame index is set to the point index in the Whisper archive, and that in WhisperDB timestamps are Unix second integers."
   ]
  },
  {
   "cell_type": "code",
   "execution_count": 11,
   "id": "e6d893f9-b815-441c-b72d-0191dea93166",
   "metadata": {},
   "outputs": [
    {
     "data": {
      "text/html": [
       "<div>\n",
       "<style scoped>\n",
       "    .dataframe tbody tr th:only-of-type {\n",
       "        vertical-align: middle;\n",
       "    }\n",
       "\n",
       "    .dataframe tbody tr th {\n",
       "        vertical-align: top;\n",
       "    }\n",
       "\n",
       "    .dataframe thead th {\n",
       "        text-align: right;\n",
       "    }\n",
       "</style>\n",
       "<table border=\"1\" class=\"dataframe\">\n",
       "  <thead>\n",
       "    <tr style=\"text-align: right;\">\n",
       "      <th></th>\n",
       "      <th>timestamp</th>\n",
       "      <th>value</th>\n",
       "    </tr>\n",
       "  </thead>\n",
       "  <tbody>\n",
       "    <tr>\n",
       "      <th>0</th>\n",
       "      <td>1626678420</td>\n",
       "      <td>4.223186</td>\n",
       "    </tr>\n",
       "    <tr>\n",
       "      <th>1</th>\n",
       "      <td>1626678430</td>\n",
       "      <td>4.180295</td>\n",
       "    </tr>\n",
       "    <tr>\n",
       "      <th>2</th>\n",
       "      <td>1626678440</td>\n",
       "      <td>4.188692</td>\n",
       "    </tr>\n",
       "    <tr>\n",
       "      <th>3</th>\n",
       "      <td>1626678450</td>\n",
       "      <td>4.225528</td>\n",
       "    </tr>\n",
       "    <tr>\n",
       "      <th>4</th>\n",
       "      <td>1626678460</td>\n",
       "      <td>4.171471</td>\n",
       "    </tr>\n",
       "    <tr>\n",
       "      <th>...</th>\n",
       "      <td>...</td>\n",
       "      <td>...</td>\n",
       "    </tr>\n",
       "    <tr>\n",
       "      <th>1555195</th>\n",
       "      <td>1626678370</td>\n",
       "      <td>4.182014</td>\n",
       "    </tr>\n",
       "    <tr>\n",
       "      <th>1555196</th>\n",
       "      <td>1626678380</td>\n",
       "      <td>4.226593</td>\n",
       "    </tr>\n",
       "    <tr>\n",
       "      <th>1555197</th>\n",
       "      <td>1626678390</td>\n",
       "      <td>4.201265</td>\n",
       "    </tr>\n",
       "    <tr>\n",
       "      <th>1555198</th>\n",
       "      <td>1626678400</td>\n",
       "      <td>4.174173</td>\n",
       "    </tr>\n",
       "    <tr>\n",
       "      <th>1555199</th>\n",
       "      <td>1626678410</td>\n",
       "      <td>4.203705</td>\n",
       "    </tr>\n",
       "  </tbody>\n",
       "</table>\n",
       "<p>1555200 rows × 2 columns</p>\n",
       "</div>"
      ],
      "text/plain": [
       "          timestamp     value\n",
       "0        1626678420  4.223186\n",
       "1        1626678430  4.180295\n",
       "2        1626678440  4.188692\n",
       "3        1626678450  4.225528\n",
       "4        1626678460  4.171471\n",
       "...             ...       ...\n",
       "1555195  1626678370  4.182014\n",
       "1555196  1626678380  4.226593\n",
       "1555197  1626678390  4.201265\n",
       "1555198  1626678400  4.174173\n",
       "1555199  1626678410  4.203705\n",
       "\n",
       "[1555200 rows x 2 columns]"
      ]
     },
     "execution_count": 11,
     "metadata": {},
     "output_type": "execute_result"
    }
   ],
   "source": [
    "wsp.archives[0].to_frame(dtype=\"float64\", to_datetime=False, drop_time_zero=False, time_sort=False)"
   ]
  },
  {
   "cell_type": "markdown",
   "id": "eb09b0c6-fc74-4255-a35c-9359d3045c7b",
   "metadata": {},
   "source": [
    "If you want a `pandas.Series` of the values with timestamps as index, you can get it like this:"
   ]
  },
  {
   "cell_type": "code",
   "execution_count": 12,
   "id": "0e072a2c-3392-47cc-89cf-a7e8fe19a0bb",
   "metadata": {},
   "outputs": [
    {
     "data": {
      "text/plain": [
       "timestamp\n",
       "2020-07-29 08:28:10+00:00    0.000000\n",
       "2020-07-29 08:28:20+00:00    0.000000\n",
       "2020-07-29 08:28:30+00:00    0.000000\n",
       "2020-07-29 08:28:40+00:00    0.000000\n",
       "2020-08-01 10:11:40+00:00    0.000000\n",
       "                               ...   \n",
       "2021-07-20 13:38:50+00:00    4.077281\n",
       "2021-07-20 13:39:00+00:00    4.100306\n",
       "2021-07-20 13:39:10+00:00    4.123771\n",
       "2021-07-20 13:39:20+00:00    4.093601\n",
       "2021-07-20 13:39:30+00:00    4.081736\n",
       "Name: value, Length: 1555200, dtype: float64"
      ]
     },
     "execution_count": 12,
     "metadata": {},
     "output_type": "execute_result"
    }
   ],
   "source": [
    "wsp.archives[0].to_frame().set_index(\"timestamp\")[\"value\"]"
   ]
  },
  {
   "cell_type": "markdown",
   "id": "c8db5a6c-3ccb-4afb-b1c6-63f4460bd9ff",
   "metadata": {},
   "source": [
    "Here's the second archive:"
   ]
  },
  {
   "cell_type": "code",
   "execution_count": 13,
   "id": "c6c8b8b4-0316-40b4-b7ac-256a8831e70b",
   "metadata": {},
   "outputs": [
    {
     "data": {
      "text/plain": [
       "WhisperArchiveMeta(index=1, offset=18662452, seconds_per_point=60, points=5256000)"
      ]
     },
     "execution_count": 13,
     "metadata": {},
     "output_type": "execute_result"
    }
   ],
   "source": [
    "wsp.archives[1].meta"
   ]
  },
  {
   "cell_type": "code",
   "execution_count": 14,
   "id": "bfd5136e-2d9f-48e3-a558-abe11d86e055",
   "metadata": {},
   "outputs": [
    {
     "data": {
      "text/html": [
       "<div>\n",
       "<style scoped>\n",
       "    .dataframe tbody tr th:only-of-type {\n",
       "        vertical-align: middle;\n",
       "    }\n",
       "\n",
       "    .dataframe tbody tr th {\n",
       "        vertical-align: top;\n",
       "    }\n",
       "\n",
       "    .dataframe thead th {\n",
       "        text-align: right;\n",
       "    }\n",
       "</style>\n",
       "<table border=\"1\" class=\"dataframe\">\n",
       "  <thead>\n",
       "    <tr style=\"text-align: right;\">\n",
       "      <th></th>\n",
       "      <th>timestamp</th>\n",
       "      <th>value</th>\n",
       "    </tr>\n",
       "  </thead>\n",
       "  <tbody>\n",
       "    <tr>\n",
       "      <th>0</th>\n",
       "      <td>2017-02-10 07:07:00+00:00</td>\n",
       "      <td>0.000000</td>\n",
       "    </tr>\n",
       "    <tr>\n",
       "      <th>1</th>\n",
       "      <td>2017-02-10 07:08:00+00:00</td>\n",
       "      <td>0.000000</td>\n",
       "    </tr>\n",
       "    <tr>\n",
       "      <th>2</th>\n",
       "      <td>2017-02-10 07:09:00+00:00</td>\n",
       "      <td>0.000000</td>\n",
       "    </tr>\n",
       "    <tr>\n",
       "      <th>3</th>\n",
       "      <td>2017-02-10 07:10:00+00:00</td>\n",
       "      <td>0.000000</td>\n",
       "    </tr>\n",
       "    <tr>\n",
       "      <th>4</th>\n",
       "      <td>2017-02-10 07:11:00+00:00</td>\n",
       "      <td>0.000000</td>\n",
       "    </tr>\n",
       "    <tr>\n",
       "      <th>...</th>\n",
       "      <td>...</td>\n",
       "      <td>...</td>\n",
       "    </tr>\n",
       "    <tr>\n",
       "      <th>2331010</th>\n",
       "      <td>2021-07-20 13:35:00+00:00</td>\n",
       "      <td>4.099915</td>\n",
       "    </tr>\n",
       "    <tr>\n",
       "      <th>2331011</th>\n",
       "      <td>2021-07-20 13:36:00+00:00</td>\n",
       "      <td>4.104024</td>\n",
       "    </tr>\n",
       "    <tr>\n",
       "      <th>2331012</th>\n",
       "      <td>2021-07-20 13:37:00+00:00</td>\n",
       "      <td>4.099772</td>\n",
       "    </tr>\n",
       "    <tr>\n",
       "      <th>2331013</th>\n",
       "      <td>2021-07-20 13:38:00+00:00</td>\n",
       "      <td>4.101358</td>\n",
       "    </tr>\n",
       "    <tr>\n",
       "      <th>2331014</th>\n",
       "      <td>2021-07-20 13:39:00+00:00</td>\n",
       "      <td>4.099853</td>\n",
       "    </tr>\n",
       "  </tbody>\n",
       "</table>\n",
       "<p>2331015 rows × 2 columns</p>\n",
       "</div>"
      ],
      "text/plain": [
       "                        timestamp     value\n",
       "0       2017-02-10 07:07:00+00:00  0.000000\n",
       "1       2017-02-10 07:08:00+00:00  0.000000\n",
       "2       2017-02-10 07:09:00+00:00  0.000000\n",
       "3       2017-02-10 07:10:00+00:00  0.000000\n",
       "4       2017-02-10 07:11:00+00:00  0.000000\n",
       "...                           ...       ...\n",
       "2331010 2021-07-20 13:35:00+00:00  4.099915\n",
       "2331011 2021-07-20 13:36:00+00:00  4.104024\n",
       "2331012 2021-07-20 13:37:00+00:00  4.099772\n",
       "2331013 2021-07-20 13:38:00+00:00  4.101358\n",
       "2331014 2021-07-20 13:39:00+00:00  4.099853\n",
       "\n",
       "[2331015 rows x 2 columns]"
      ]
     },
     "execution_count": 14,
     "metadata": {},
     "output_type": "execute_result"
    }
   ],
   "source": [
    "wsp.archives[1].to_frame()"
   ]
  },
  {
   "cell_type": "markdown",
   "id": "be5177d5-e25f-403e-a3de-bf7f253326ab",
   "metadata": {},
   "source": [
    "And the last archive, which in this case is minute-resolution:"
   ]
  },
  {
   "cell_type": "code",
   "execution_count": 15,
   "id": "39223b5d-3ed3-4fee-815a-fdb6576a335e",
   "metadata": {},
   "outputs": [
    {
     "data": {
      "text/plain": [
       "WhisperArchiveMeta(index=2, offset=81734452, seconds_per_point=3600, points=87601)"
      ]
     },
     "execution_count": 15,
     "metadata": {},
     "output_type": "execute_result"
    }
   ],
   "source": [
    "wsp.archives[2].meta"
   ]
  },
  {
   "cell_type": "code",
   "execution_count": 16,
   "id": "bf9077da-c4d9-4f5c-821e-234942dcd70b",
   "metadata": {},
   "outputs": [
    {
     "data": {
      "text/html": [
       "<div>\n",
       "<style scoped>\n",
       "    .dataframe tbody tr th:only-of-type {\n",
       "        vertical-align: middle;\n",
       "    }\n",
       "\n",
       "    .dataframe tbody tr th {\n",
       "        vertical-align: top;\n",
       "    }\n",
       "\n",
       "    .dataframe thead th {\n",
       "        text-align: right;\n",
       "    }\n",
       "</style>\n",
       "<table border=\"1\" class=\"dataframe\">\n",
       "  <thead>\n",
       "    <tr style=\"text-align: right;\">\n",
       "      <th></th>\n",
       "      <th>timestamp</th>\n",
       "      <th>value</th>\n",
       "    </tr>\n",
       "  </thead>\n",
       "  <tbody>\n",
       "    <tr>\n",
       "      <th>0</th>\n",
       "      <td>2017-02-10 07:00:00+00:00</td>\n",
       "      <td>0.000000</td>\n",
       "    </tr>\n",
       "    <tr>\n",
       "      <th>1</th>\n",
       "      <td>2017-02-10 08:00:00+00:00</td>\n",
       "      <td>0.000000</td>\n",
       "    </tr>\n",
       "    <tr>\n",
       "      <th>2</th>\n",
       "      <td>2017-02-10 09:00:00+00:00</td>\n",
       "      <td>0.000000</td>\n",
       "    </tr>\n",
       "    <tr>\n",
       "      <th>3</th>\n",
       "      <td>2017-02-10 10:00:00+00:00</td>\n",
       "      <td>0.000000</td>\n",
       "    </tr>\n",
       "    <tr>\n",
       "      <th>4</th>\n",
       "      <td>2017-02-10 11:00:00+00:00</td>\n",
       "      <td>0.000000</td>\n",
       "    </tr>\n",
       "    <tr>\n",
       "      <th>...</th>\n",
       "      <td>...</td>\n",
       "      <td>...</td>\n",
       "    </tr>\n",
       "    <tr>\n",
       "      <th>38850</th>\n",
       "      <td>2021-07-20 09:00:00+00:00</td>\n",
       "      <td>4.100146</td>\n",
       "    </tr>\n",
       "    <tr>\n",
       "      <th>38851</th>\n",
       "      <td>2021-07-20 10:00:00+00:00</td>\n",
       "      <td>4.099958</td>\n",
       "    </tr>\n",
       "    <tr>\n",
       "      <th>38852</th>\n",
       "      <td>2021-07-20 11:00:00+00:00</td>\n",
       "      <td>4.099795</td>\n",
       "    </tr>\n",
       "    <tr>\n",
       "      <th>38853</th>\n",
       "      <td>2021-07-20 12:00:00+00:00</td>\n",
       "      <td>4.100198</td>\n",
       "    </tr>\n",
       "    <tr>\n",
       "      <th>38854</th>\n",
       "      <td>2021-07-20 13:00:00+00:00</td>\n",
       "      <td>4.099755</td>\n",
       "    </tr>\n",
       "  </tbody>\n",
       "</table>\n",
       "<p>38855 rows × 2 columns</p>\n",
       "</div>"
      ],
      "text/plain": [
       "                      timestamp     value\n",
       "0     2017-02-10 07:00:00+00:00  0.000000\n",
       "1     2017-02-10 08:00:00+00:00  0.000000\n",
       "2     2017-02-10 09:00:00+00:00  0.000000\n",
       "3     2017-02-10 10:00:00+00:00  0.000000\n",
       "4     2017-02-10 11:00:00+00:00  0.000000\n",
       "...                         ...       ...\n",
       "38850 2021-07-20 09:00:00+00:00  4.100146\n",
       "38851 2021-07-20 10:00:00+00:00  4.099958\n",
       "38852 2021-07-20 11:00:00+00:00  4.099795\n",
       "38853 2021-07-20 12:00:00+00:00  4.100198\n",
       "38854 2021-07-20 13:00:00+00:00  4.099755\n",
       "\n",
       "[38855 rows x 2 columns]"
      ]
     },
     "execution_count": 16,
     "metadata": {},
     "output_type": "execute_result"
    }
   ],
   "source": [
    "wsp.archives[2].to_frame()"
   ]
  },
  {
   "cell_type": "markdown",
   "id": "bae7c21c-8284-4d58-9978-938aba2b254d",
   "metadata": {},
   "source": [
    "## Data analysis\n",
    "\n",
    "Now that we have the data nicely formatted we can use pandas and PyData tools such as e.g. matplotlib or scikit-learn or whatever we like to analyse the data."
   ]
  },
  {
   "cell_type": "code",
   "execution_count": 17,
   "id": "b87b97f6-4ab8-4e78-a261-89bad536eb54",
   "metadata": {},
   "outputs": [
    {
     "data": {
      "text/plain": [
       "<Figure size 1080x360 with 0 Axes>"
      ]
     },
     "metadata": {},
     "output_type": "display_data"
    },
    {
     "data": {
      "image/png": "[encoded data removed]",
      "text/plain": [
       "<Figure size 432x288 with 1 Axes>"
      ]
     },
     "metadata": {
      "needs_background": "light"
     },
     "output_type": "display_data"
    },
    {
     "data": {
      "image/png": "[encoded data removed]",
      "text/plain": [
       "<Figure size 432x288 with 1 Axes>"
      ]
     },
     "metadata": {
      "needs_background": "light"
     },
     "output_type": "display_data"
    },
    {
     "data": {
      "image/png": "[encoded data removed]",
      "text/plain": [
       "<Figure size 432x288 with 1 Axes>"
      ]
     },
     "metadata": {
      "needs_background": "light"
     },
     "output_type": "display_data"
    }
   ],
   "source": [
    "plt.figure(figsize=(15, 5))\n",
    "wsp.archives[2].to_frame().set_index(\"timestamp\").plot(style=\".\", label=\"Archive 2\")\n",
    "wsp.archives[1].to_frame().set_index(\"timestamp\").plot(style=\".\", label=\"Archive 1\")\n",
    "wsp.archives[0].to_frame().set_index(\"timestamp\").plot(style=\".\", label=\"Archive 0\")\n",
    "plt.legend();"
   ]
  },
  {
   "cell_type": "code",
   "execution_count": 18,
   "id": "399c0027-7f0d-4583-8d5b-12eec919b600",
   "metadata": {},
   "outputs": [],
   "source": [
    "# TODO: show a plot already!"
   ]
  },
  {
   "cell_type": "markdown",
   "id": "4e64a203-baa8-4307-8599-69644648a4fa",
   "metadata": {},
   "source": [
    "## Data types and pandas"
   ]
  },
  {
   "cell_type": "code",
   "execution_count": 19,
   "id": "88abe60b-e2ed-4838-851d-c08bc86d8a7e",
   "metadata": {},
   "outputs": [],
   "source": [
    "# TODO: show details on data types and how to work with timestamps & values in pandas"
   ]
  },
  {
   "cell_type": "markdown",
   "id": "8998ca12-3a5f-4234-b12e-4241a7031e23",
   "metadata": {},
   "source": [
    "## Write to Parquet\n",
    "\n",
    "Nowadays Parquet is a very common file format for tabular data. You can use `whisper_pandas` to convert Whisper files to Parquet like this:"
   ]
  },
  {
   "cell_type": "code",
   "execution_count": 20,
   "id": "c50644c2-6d87-4713-9234-6c30a5bc72e6",
   "metadata": {},
   "outputs": [],
   "source": [
    "df = wsp.archives[0].to_frame()\n",
    "df.to_parquet(\"data/example_archive0.parquet\")"
   ]
  },
  {
   "cell_type": "markdown",
   "id": "929a81a3-7f4e-44da-a588-2f874ed68290",
   "metadata": {},
   "source": [
    "If you wanted to, you could also combine the data from multiple archives e.g. like this:"
   ]
  },
  {
   "cell_type": "code",
   "execution_count": 21,
   "id": "93d7f33a-7c00-4e18-a180-9d8e501e3a5f",
   "metadata": {},
   "outputs": [
    {
     "data": {
      "text/html": [
       "<div>\n",
       "<style scoped>\n",
       "    .dataframe tbody tr th:only-of-type {\n",
       "        vertical-align: middle;\n",
       "    }\n",
       "\n",
       "    .dataframe tbody tr th {\n",
       "        vertical-align: top;\n",
       "    }\n",
       "\n",
       "    .dataframe thead th {\n",
       "        text-align: right;\n",
       "    }\n",
       "</style>\n",
       "<table border=\"1\" class=\"dataframe\">\n",
       "  <thead>\n",
       "    <tr style=\"text-align: right;\">\n",
       "      <th></th>\n",
       "      <th>archive</th>\n",
       "      <th>index</th>\n",
       "      <th>timestamp</th>\n",
       "      <th>value</th>\n",
       "    </tr>\n",
       "  </thead>\n",
       "  <tbody>\n",
       "    <tr>\n",
       "      <th>0</th>\n",
       "      <td>0</td>\n",
       "      <td>43687</td>\n",
       "      <td>2020-07-29 08:28:10+00:00</td>\n",
       "      <td>0.000000</td>\n",
       "    </tr>\n",
       "    <tr>\n",
       "      <th>1</th>\n",
       "      <td>0</td>\n",
       "      <td>43688</td>\n",
       "      <td>2020-07-29 08:28:20+00:00</td>\n",
       "      <td>0.000000</td>\n",
       "    </tr>\n",
       "    <tr>\n",
       "      <th>2</th>\n",
       "      <td>0</td>\n",
       "      <td>43689</td>\n",
       "      <td>2020-07-29 08:28:30+00:00</td>\n",
       "      <td>0.000000</td>\n",
       "    </tr>\n",
       "    <tr>\n",
       "      <th>3</th>\n",
       "      <td>0</td>\n",
       "      <td>43690</td>\n",
       "      <td>2020-07-29 08:28:40+00:00</td>\n",
       "      <td>0.000000</td>\n",
       "    </tr>\n",
       "    <tr>\n",
       "      <th>4</th>\n",
       "      <td>0</td>\n",
       "      <td>70228</td>\n",
       "      <td>2020-08-01 10:11:40+00:00</td>\n",
       "      <td>0.000000</td>\n",
       "    </tr>\n",
       "    <tr>\n",
       "      <th>...</th>\n",
       "      <td>...</td>\n",
       "      <td>...</td>\n",
       "      <td>...</td>\n",
       "      <td>...</td>\n",
       "    </tr>\n",
       "    <tr>\n",
       "      <th>38850</th>\n",
       "      <td>2</td>\n",
       "      <td>38850</td>\n",
       "      <td>2021-07-20 09:00:00+00:00</td>\n",
       "      <td>4.100146</td>\n",
       "    </tr>\n",
       "    <tr>\n",
       "      <th>38851</th>\n",
       "      <td>2</td>\n",
       "      <td>38851</td>\n",
       "      <td>2021-07-20 10:00:00+00:00</td>\n",
       "      <td>4.099958</td>\n",
       "    </tr>\n",
       "    <tr>\n",
       "      <th>38852</th>\n",
       "      <td>2</td>\n",
       "      <td>38852</td>\n",
       "      <td>2021-07-20 11:00:00+00:00</td>\n",
       "      <td>4.099795</td>\n",
       "    </tr>\n",
       "    <tr>\n",
       "      <th>38853</th>\n",
       "      <td>2</td>\n",
       "      <td>38853</td>\n",
       "      <td>2021-07-20 12:00:00+00:00</td>\n",
       "      <td>4.100198</td>\n",
       "    </tr>\n",
       "    <tr>\n",
       "      <th>38854</th>\n",
       "      <td>2</td>\n",
       "      <td>38854</td>\n",
       "      <td>2021-07-20 13:00:00+00:00</td>\n",
       "      <td>4.099755</td>\n",
       "    </tr>\n",
       "  </tbody>\n",
       "</table>\n",
       "<p>3925070 rows × 4 columns</p>\n",
       "</div>"
      ],
      "text/plain": [
       "       archive  index                 timestamp     value\n",
       "0            0  43687 2020-07-29 08:28:10+00:00  0.000000\n",
       "1            0  43688 2020-07-29 08:28:20+00:00  0.000000\n",
       "2            0  43689 2020-07-29 08:28:30+00:00  0.000000\n",
       "3            0  43690 2020-07-29 08:28:40+00:00  0.000000\n",
       "4            0  70228 2020-08-01 10:11:40+00:00  0.000000\n",
       "...        ...    ...                       ...       ...\n",
       "38850        2  38850 2021-07-20 09:00:00+00:00  4.100146\n",
       "38851        2  38851 2021-07-20 10:00:00+00:00  4.099958\n",
       "38852        2  38852 2021-07-20 11:00:00+00:00  4.099795\n",
       "38853        2  38853 2021-07-20 12:00:00+00:00  4.100198\n",
       "38854        2  38854 2021-07-20 13:00:00+00:00  4.099755\n",
       "\n",
       "[3925070 rows x 4 columns]"
      ]
     },
     "execution_count": 21,
     "metadata": {},
     "output_type": "execute_result"
    }
   ],
   "source": [
    "df0 = wsp.archives[0].to_frame().reset_index()\n",
    "df0.insert(0, \"archive\", 0)\n",
    "df1 = wsp.archives[1].to_frame().reset_index()\n",
    "df1.insert(0, \"archive\", 1)\n",
    "df2 = wsp.archives[2].to_frame().reset_index()\n",
    "df2.insert(0, \"archive\", 2)\n",
    "df = pd.concat([df0, df1, df2])\n",
    "df"
   ]
  },
  {
   "cell_type": "markdown",
   "id": "459997d1-28c5-4135-8205-a30548195801",
   "metadata": {},
   "source": [
    "Of course you could drop or add any column you like (e.g. \"archive\" or \"index\") or assemble or change the `pandas.DataFrame` in any way you like.\n",
    "Let's drop the `index` column (which was the point index in the Whisper archive), and also let's not write the row index to the Parquet file as an example:"
   ]
  },
  {
   "cell_type": "code",
   "execution_count": 22,
   "id": "b39cad45-5d71-47e9-bc69-1a8d52ca8e4c",
   "metadata": {},
   "outputs": [],
   "source": [
    "df.drop(columns=[\"index\"]).to_parquet(\"data/example.parquet\", index=False)"
   ]
  },
  {
   "cell_type": "markdown",
   "id": "57dc89f6-7ba5-45ad-ba49-989e169ac099",
   "metadata": {},
   "source": [
    "Like Whisper, Parquet is lossless, so the data comes back bit by bit identical:"
   ]
  },
  {
   "cell_type": "code",
   "execution_count": 23,
   "id": "713c87c5-0e41-4e4d-be95-5979607fbb51",
   "metadata": {},
   "outputs": [
    {
     "data": {
      "text/html": [
       "<div>\n",
       "<style scoped>\n",
       "    .dataframe tbody tr th:only-of-type {\n",
       "        vertical-align: middle;\n",
       "    }\n",
       "\n",
       "    .dataframe tbody tr th {\n",
       "        vertical-align: top;\n",
       "    }\n",
       "\n",
       "    .dataframe thead th {\n",
       "        text-align: right;\n",
       "    }\n",
       "</style>\n",
       "<table border=\"1\" class=\"dataframe\">\n",
       "  <thead>\n",
       "    <tr style=\"text-align: right;\">\n",
       "      <th></th>\n",
       "      <th>archive</th>\n",
       "      <th>timestamp</th>\n",
       "      <th>value</th>\n",
       "    </tr>\n",
       "  </thead>\n",
       "  <tbody>\n",
       "    <tr>\n",
       "      <th>0</th>\n",
       "      <td>0</td>\n",
       "      <td>2020-07-29 08:28:10+00:00</td>\n",
       "      <td>0.000000</td>\n",
       "    </tr>\n",
       "    <tr>\n",
       "      <th>1</th>\n",
       "      <td>0</td>\n",
       "      <td>2020-07-29 08:28:20+00:00</td>\n",
       "      <td>0.000000</td>\n",
       "    </tr>\n",
       "    <tr>\n",
       "      <th>2</th>\n",
       "      <td>0</td>\n",
       "      <td>2020-07-29 08:28:30+00:00</td>\n",
       "      <td>0.000000</td>\n",
       "    </tr>\n",
       "    <tr>\n",
       "      <th>3</th>\n",
       "      <td>0</td>\n",
       "      <td>2020-07-29 08:28:40+00:00</td>\n",
       "      <td>0.000000</td>\n",
       "    </tr>\n",
       "    <tr>\n",
       "      <th>4</th>\n",
       "      <td>0</td>\n",
       "      <td>2020-08-01 10:11:40+00:00</td>\n",
       "      <td>0.000000</td>\n",
       "    </tr>\n",
       "    <tr>\n",
       "      <th>...</th>\n",
       "      <td>...</td>\n",
       "      <td>...</td>\n",
       "      <td>...</td>\n",
       "    </tr>\n",
       "    <tr>\n",
       "      <th>3925065</th>\n",
       "      <td>2</td>\n",
       "      <td>2021-07-20 09:00:00+00:00</td>\n",
       "      <td>4.100146</td>\n",
       "    </tr>\n",
       "    <tr>\n",
       "      <th>3925066</th>\n",
       "      <td>2</td>\n",
       "      <td>2021-07-20 10:00:00+00:00</td>\n",
       "      <td>4.099958</td>\n",
       "    </tr>\n",
       "    <tr>\n",
       "      <th>3925067</th>\n",
       "      <td>2</td>\n",
       "      <td>2021-07-20 11:00:00+00:00</td>\n",
       "      <td>4.099795</td>\n",
       "    </tr>\n",
       "    <tr>\n",
       "      <th>3925068</th>\n",
       "      <td>2</td>\n",
       "      <td>2021-07-20 12:00:00+00:00</td>\n",
       "      <td>4.100198</td>\n",
       "    </tr>\n",
       "    <tr>\n",
       "      <th>3925069</th>\n",
       "      <td>2</td>\n",
       "      <td>2021-07-20 13:00:00+00:00</td>\n",
       "      <td>4.099755</td>\n",
       "    </tr>\n",
       "  </tbody>\n",
       "</table>\n",
       "<p>3925070 rows × 3 columns</p>\n",
       "</div>"
      ],
      "text/plain": [
       "         archive                 timestamp     value\n",
       "0              0 2020-07-29 08:28:10+00:00  0.000000\n",
       "1              0 2020-07-29 08:28:20+00:00  0.000000\n",
       "2              0 2020-07-29 08:28:30+00:00  0.000000\n",
       "3              0 2020-07-29 08:28:40+00:00  0.000000\n",
       "4              0 2020-08-01 10:11:40+00:00  0.000000\n",
       "...          ...                       ...       ...\n",
       "3925065        2 2021-07-20 09:00:00+00:00  4.100146\n",
       "3925066        2 2021-07-20 10:00:00+00:00  4.099958\n",
       "3925067        2 2021-07-20 11:00:00+00:00  4.099795\n",
       "3925068        2 2021-07-20 12:00:00+00:00  4.100198\n",
       "3925069        2 2021-07-20 13:00:00+00:00  4.099755\n",
       "\n",
       "[3925070 rows x 3 columns]"
      ]
     },
     "execution_count": 23,
     "metadata": {},
     "output_type": "execute_result"
    }
   ],
   "source": [
    "pd.read_parquet(\"data/example.parquet\")"
   ]
  },
  {
   "cell_type": "markdown",
   "id": "4ab6feaa-26cf-4319-82e5-b1efb2974540",
   "metadata": {},
   "source": [
    "## Create new file and update values"
   ]
  },
  {
   "cell_type": "code",
   "execution_count": 24,
   "id": "3c9b6282-b8bf-4daf-9b72-4536771fa56c",
   "metadata": {},
   "outputs": [],
   "source": [
    "# TODO: show example how to create a new file and update values\n",
    "# TBD: use whisper for that or implement it in whisper-pandas?"
   ]
  },
  {
   "cell_type": "code",
   "execution_count": null,
   "id": "8d054238-cbca-4028-b977-52abe9c19280",
   "metadata": {},
   "outputs": [],
   "source": []
  }
 ],
 "metadata": {
  "kernelspec": {
   "display_name": "Python 3 (ipykernel)",
   "language": "python",
   "name": "python3"
  },
  "language_info": {
   "codemirror_mode": {
    "name": "ipython",
    "version": 3
   },
   "file_extension": ".py",
   "mimetype": "text/x-python",
   "name": "python",
   "nbconvert_exporter": "python",
   "pygments_lexer": "ipython3",
   "version": "3.8.13"
  }
 },
 "nbformat": 4,
 "nbformat_minor": 5
}
